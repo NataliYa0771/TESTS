{
 "cells": [
  {
   "cell_type": "markdown",
   "metadata": {},
   "source": [
    " ## Продуктовая аналитика ##"
   ]
  },
  {
   "cell_type": "markdown",
   "metadata": {},
   "source": [
    "### Задача 1 ###\n",
    "В банке запустили аб-тест на странице, где можно оформить заявку на банковскую карту. В варианте А из 2574 клиентов, зашедших на страницу, на баннер нажали 350, в варианте Б из 2855 нажали 375. Какой вариант баннера предложить продакту и почему?"
   ]
  },
  {
   "cell_type": "code",
   "execution_count": 1,
   "metadata": {},
   "outputs": [],
   "source": [
    "import numpy as np\n",
    "import pandas as pd\n",
    "from scipy import stats\n",
    "import matplotlib.pyplot as plt\n",
    "import seaborn as sns"
   ]
  },
  {
   "cell_type": "code",
   "execution_count": 2,
   "metadata": {},
   "outputs": [
    {
     "name": "stdout",
     "output_type": "stream",
     "text": [
      "CTR A: 0.1360 (13.60%)\n",
      "CTR B: 0.1313 (13.13%)\n",
      "Разница (A - B): 0.0046 (0.46 п.п.)\n"
     ]
    }
   ],
   "source": [
    "# Посчитаем CTR\n",
    "clicks_A = 350\n",
    "views_A = 2574\n",
    "clicks_B = 375\n",
    "views_B = 2855\n",
    "\n",
    "ctr_A = clicks_A / views_A\n",
    "ctr_B = clicks_B / views_B\n",
    "\n",
    "print(f\"CTR A: {ctr_A:.4f} ({ctr_A:.2%})\")\n",
    "print(f\"CTR B: {ctr_B:.4f} ({ctr_B:.2%})\")\n",
    "print(f\"Разница (A - B): {(ctr_A - ctr_B):.4f} ({(ctr_A - ctr_B)*100:.2f} п.п.)\")"
   ]
  },
  {
   "cell_type": "markdown",
   "metadata": {},
   "source": [
    "С помощью статистического теста проверим статзначимость.\n",
    "Для A/B-тестов с бинарным результатом (кликает / не кликает) подходит z-тест или хи-квадрат."
   ]
  },
  {
   "cell_type": "code",
   "execution_count": 3,
   "metadata": {},
   "outputs": [
    {
     "name": "stdout",
     "output_type": "stream",
     "text": [
      "Z-статистика: 0.5004\n",
      "P-value: 0.6168\n"
     ]
    }
   ],
   "source": [
    "# Объединённая доля\n",
    "p_pool = (clicks_A + clicks_B) / (views_A + views_B)\n",
    "\n",
    "# Стандартная ошибка\n",
    "se = np.sqrt(\n",
    "    p_pool * (1 - p_pool) * (1/views_A + 1/views_B)\n",
    ")\n",
    "\n",
    "# Z-статистика\n",
    "z = (ctr_A - ctr_B) / se\n",
    "\n",
    "# P-value (двусторонний)\n",
    "p_value = 2 * (1 - stats.norm.cdf(abs(z)))\n",
    "\n",
    "print(f\"Z-статистика: {z:.4f}\")\n",
    "print(f\"P-value: {p_value:.4f}\")"
   ]
  },
  {
   "cell_type": "code",
   "execution_count": 4,
   "metadata": {},
   "outputs": [
    {
     "name": "stdout",
     "output_type": "stream",
     "text": [
      "Доверительный интервал для A: [0.1227, 0.1492]\n",
      "Доверительный интервал для B: [0.1190, 0.1437]\n"
     ]
    }
   ],
   "source": [
    "# Доверительные интервалы\n",
    "def ci_proportion(clicks, views, alpha=0.05):\n",
    "    ctr = clicks / views\n",
    "    se = np.sqrt(ctr * (1 - ctr) / views)\n",
    "    z_crit = stats.norm.ppf(1 - alpha/2)\n",
    "    margin = z_crit * se\n",
    "    return (ctr - margin, ctr + margin)\n",
    "\n",
    "ci_A = ci_proportion(clicks_A, views_A)\n",
    "ci_B = ci_proportion(clicks_B, views_B)\n",
    "\n",
    "print(f\"Доверительный интервал для A: [{ci_A[0]:.4f}, {ci_A[1]:.4f}]\")\n",
    "print(f\"Доверительный интервал для B: [{ci_B[0]:.4f}, {ci_B[1]:.4f}]\")"
   ]
  },
  {
   "cell_type": "code",
   "execution_count": 8,
   "metadata": {},
   "outputs": [
    {
     "data": {
      "image/png": "[encoded data removed]",
      "text/plain": [
       "<Figure size 576x360 with 1 Axes>"
      ]
     },
     "metadata": {
      "needs_background": "light"
     },
     "output_type": "display_data"
    }
   ],
   "source": [
    "ci_A = ci_proportion(clicks_A, views_A)\n",
    "ci_B = ci_proportion(clicks_B, views_B)\n",
    "\n",
    "labels = ['A', 'B']\n",
    "ctrs = [ctr_A, ctr_B]\n",
    "\n",
    "cis = [ci_A, ci_B]\n",
    "\n",
    "plt.figure(figsize=(8, 5))\n",
    "plt.errorbar(labels, ctrs, yerr=yerr, fmt='o', capsize=5, \n",
    "             label='CTR с 95% ДИ', color='darkblue')\n",
    "\n",
    "plt.axhline(y=ctr_A, color='red', linestyle='--', alpha=0.6, label=f'CTR A = {ctr_A:.1%}')\n",
    "plt.axhline(y=ctr_B, color='orange', linestyle='--', alpha=0.6, label=f'CTR B = {ctr_B:.1%}')\n",
    "\n",
    "plt.ylabel('CTR')\n",
    "plt.title('Сравнение CTR с доверительными интервалами')\n",
    "plt.grid(axis='y', alpha=0.3)\n",
    "plt.legend()\n",
    "plt.show()"
   ]
  },
  {
   "cell_type": "code",
   "execution_count": 9,
   "metadata": {},
   "outputs": [
    {
     "name": "stdout",
     "output_type": "stream",
     "text": [
      "Chi²: 0.2120, p-value: 0.6452\n"
     ]
    }
   ],
   "source": [
    "from scipy.stats import chi2_contingency\n",
    "\n",
    "contingency = [[350, 2574 - 350],[375, 2855 - 375]]\n",
    "\n",
    "chi2, p, dof, expected = chi2_contingency(contingency)\n",
    "print(f\"Chi²: {chi2:.4f}, p-value: {p:.4f}\")"
   ]
  },
  {
   "cell_type": "markdown",
   "metadata": {},
   "source": [
    "Нет статистически значимой разницы между группами A и B. \n",
    "\n",
    "Разница в CTR (13.6% и 13.1%) может быть случайной ."
   ]
  },
  {
   "cell_type": "code",
   "execution_count": 10,
   "metadata": {},
   "outputs": [
    {
     "name": "stdout",
     "output_type": "stream",
     "text": [
      "CTR A: 0.1360 (13.60%)\n",
      "CTR B: 0.1313 (13.13%)\n",
      "Разница: 0.0046 (0.46 п.п.)\n",
      "Effect size (Cohen's h): 0.0136\n"
     ]
    }
   ],
   "source": [
    "from statsmodels.stats.power import zt_ind_solve_power\n",
    "from statsmodels.stats.proportion import proportion_effectsize\n",
    "import numpy as np\n",
    "\n",
    "# Исходные CTR\n",
    "p_A = 350 / 2574   \n",
    "p_B = 375 / 2855   \n",
    "\n",
    "diff = p_A - p_B   \n",
    "\n",
    "# Эффект-сайз (Cohen's h) — стандартная метрика для долей\n",
    "effect_size = proportion_effectsize(prop1=p_A, prop2=p_B)\n",
    "\n",
    "print(f\"CTR A: {p_A:.4f} ({p_A:.2%})\")\n",
    "print(f\"CTR B: {p_B:.4f} ({p_B:.2%})\")\n",
    "print(f\"Разница: {diff:.4f} ({diff*100:.2f} п.п.)\")\n",
    "print(f\"Effect size (Cohen's h): {effect_size:.4f}\")"
   ]
  },
  {
   "cell_type": "code",
   "execution_count": 11,
   "metadata": {},
   "outputs": [
    {
     "name": "stdout",
     "output_type": "stream",
     "text": [
      "Необходимый размер выборки на группу: 84913\n"
     ]
    }
   ],
   "source": [
    "# Расчёт необходимого размера выборки на группу\n",
    "n_needed = zt_ind_solve_power(\n",
    "    effect_size=effect_size,\n",
    "    alpha=0.05,\n",
    "    power=0.8,           # мощность 80%\n",
    "    alternative='two-sided'\n",
    ")\n",
    "\n",
    "print(f\"Необходимый размер выборки на группу: {int(np.ceil(n_needed))}\")"
   ]
  },
  {
   "cell_type": "markdown",
   "metadata": {},
   "source": [
    "Чтобы с 80% вероятностью обнаружить разницу в 0.46 п.п. , нужно 84913 пользователей на группу. \n",
    "Текущая выборка недостаточна, высокий риск не заметить реальный эффект (ошибка 2 рода).\n",
    "Увеличим разницу на 1 п.п."
   ]
  },
  {
   "cell_type": "code",
   "execution_count": 12,
   "metadata": {},
   "outputs": [
    {
     "name": "stdout",
     "output_type": "stream",
     "text": [
      "Effect size (Cohen's h): -0.0287\n",
      "Необходимый размер выборки на группу: 19007\n"
     ]
    }
   ],
   "source": [
    "# Базовый CTR и MDE\n",
    "p_control = 0.1360\n",
    "p_treatment = p_control + 0.01  # +1 п.п.\n",
    "effect_size = proportion_effectsize(prop1=p_control, prop2=p_treatment)\n",
    "\n",
    "# Расчёт объёма\n",
    "n_needed = zt_ind_solve_power(\n",
    "    effect_size=effect_size,\n",
    "    alpha=0.05,\n",
    "    power=0.8,\n",
    "    alternative='two-sided'\n",
    ")\n",
    "\n",
    "print(f\"Effect size (Cohen's h): {effect_size:.4f}\")\n",
    "print(f\"Необходимый размер выборки на группу: {int(n_needed)}\")"
   ]
  },
  {
   "cell_type": "markdown",
   "metadata": {},
   "source": [
    "0.46 /+ 1 п.п. — это небольшая, но потенциально ценная разница, особенно при высоком трафике. Но сейчас мы не можем быть уверены, что она реальна, потому что разница не статистически значима и для её обнаружения нужно больше данных.\n",
    "Можно рекомендовать либо продолжить тест до необходимого количества пользователей на группу, либо внедрить A как потенциально лучший, но с рекомендацией мониторить метрики после запуска."
   ]
  },
  {
   "cell_type": "markdown",
   "metadata": {},
   "source": [
    "###  Задача 2 ###\n",
    "\n",
    "Продукт хочет посчитать retention клиентов, узнать, какой процент клиентов вернулся в течение последующих месяцев после их первой покупки (retention)."
   ]
  },
  {
   "cell_type": "markdown",
   "metadata": {},
   "source": [
    " Вопросы для уточнения:\n",
    " \n",
    " \n",
    "- По какому периоду (дни/недели/месяцы)?\n",
    " \n",
    "- Как определяется \"первый месяц\" для retention?\n",
    "\n",
    "- Нужен retention для всех клиентов?\n",
    "\n",
    "- Сколько месяцев нужно проанализировать?\n",
    "\n",
    "- Какие дополнительные метрики нужны?\n",
    "Например, абсолютное количество клиентов, которые вернулись, или только проценты?\n",
    "\n",
    "- Что считать первой покупкой и возвратом?\n",
    "\n",
    "- Нужны ли сегменты?\n",
    "\n",
    "- Интересует количество клиентов или выручка?\n",
    "\n",
    "- Как часто обновлять?"
   ]
  },
  {
   "cell_type": "code",
   "execution_count": 33,
   "metadata": {},
   "outputs": [
    {
     "name": "stdout",
     "output_type": "stream",
     "text": [
      "Загружено 512 клиентов\n",
      "Retention по дням:\n",
      "    days_since_first  returning_clients  retention_rate\n",
      "0                  0                512          100.00\n",
      "1                  1                  1            0.20\n",
      "2                  2                  1            0.20\n",
      "3                  3                  0            0.00\n",
      "4                  4                  0            0.00\n",
      "5                  5                  1            0.20\n",
      "6                  6                  1            0.20\n",
      "7                  7                  3            0.59\n",
      "8                  8                  4            0.78\n",
      "9                  9                  4            0.78\n",
      "10                10                  2            0.39\n",
      "11                11                  1            0.20\n",
      "12                12                  3            0.59\n",
      "13                13                  0            0.00\n",
      "14                14                  0            0.00\n",
      "15                15                  0            0.00\n",
      "16                16                  0            0.00\n",
      "17                17                  2            0.39\n",
      "18                18                  0            0.00\n",
      "19                19                  0            0.00\n",
      "20                20                  1            0.20\n",
      "21                21                  1            0.20\n",
      "22                22                  0            0.00\n",
      "23                23                  1            0.20\n",
      "24                24                  0            0.00\n",
      "25                25                  0            0.00\n",
      "26                26                  1            0.20\n",
      "27                27                  1            0.20\n"
     ]
    },
    {
     "data": {
      "image/png": "[encoded data removed]",
      "text/plain": [
       "<Figure size 864x432 with 1 Axes>"
      ]
     },
     "metadata": {
      "needs_background": "light"
     },
     "output_type": "display_data"
    }
   ],
   "source": [
    "import pandas as pd\n",
    "import numpy as np\n",
    "import seaborn as sns\n",
    "import matplotlib.pyplot as plt\n",
    "\n",
    "# Загружаем данные с автоматическим преобразованием дат\n",
    "df = pd.read_csv('spending_last_30_days_with_dates.csv', \n",
    "                 parse_dates=['first_transaction_date', 'last_transaction_date', 'report_date'])\n",
    "\n",
    "print(f\"Загружено {len(df)} клиентов\")\n",
    "\n",
    "# Считаем разницу в днях и фильтруем отрицательные значения\n",
    "df['days_since_first'] = (df['last_transaction_date'] - df['first_transaction_date']).dt.days\n",
    "df = df[df['days_since_first'] >= 0].copy()\n",
    "\n",
    "# Создаем данные для анализа retention: все клиенты в день 0 + повторные покупки\n",
    "retention_data = pd.concat([\n",
    "    pd.DataFrame({'id_client': df['id_client'], 'days_since_first': 0}),  # все в день 0\n",
    "    df[df['days_since_first'] > 0][['id_client', 'days_since_first']]     # повторные покупки\n",
    "], ignore_index=True)\n",
    "\n",
    "# Группируем по дням и считаем уникальных клиентов\n",
    "retention_summary = (retention_data\n",
    "                    .groupby('days_since_first')['id_client']\n",
    "                    .nunique()\n",
    "                    .reset_index(name='returning_clients'))\n",
    "\n",
    "# Считаем retention rate (%)\n",
    "cohort_size = len(df)\n",
    "retention_summary['retention_rate'] = (retention_summary['returning_clients'] / cohort_size * 100).round(2)\n",
    "\n",
    "# Добавляем все дни от 0 до максимума (заполняем пропуски)\n",
    "max_day = int(retention_summary['days_since_first'].max())\n",
    "all_days = pd.DataFrame({'days_since_first': range(max_day + 1)})\n",
    "retention_summary = (all_days\n",
    "                    .merge(retention_summary, on='days_since_first', how='left')\n",
    "                    .fillna({'returning_clients': 0})\n",
    "                    .assign(returning_clients=lambda x: x['returning_clients'].astype(int)))\n",
    "\n",
    "retention_summary['retention_rate'] = (retention_summary['returning_clients'] / cohort_size * 100).round(2)\n",
    "retention_summary = retention_summary.sort_values('days_since_first').reset_index(drop=True)\n",
    "\n",
    "print(\"Retention по дням:\")\n",
    "print(retention_summary)\n",
    "\n",
    "# Визуализация\n",
    "plt.figure(figsize=(12, 6))\n",
    "plt.plot(retention_summary['days_since_first'], retention_summary['retention_rate'],\n",
    "         marker='o', linestyle='-', color='steelblue', linewidth=2, markersize=4)\n",
    "plt.title('Retention по дням с первой покупки', fontsize=14)\n",
    "plt.xlabel('Дни с первой покупки')\n",
    "plt.ylabel('Retention, %')\n",
    "plt.grid(axis='y', alpha=0.3)\n",
    "plt.xticks(range(0, max_day + 1, max(1, max_day // 10)))\n",
    "plt.tight_layout()\n",
    "plt.show()"
   ]
  }
 ],
 "metadata": {
  "kernelspec": {
   "display_name": "Python 3",
   "language": "python",
   "name": "python3"
  },
  "language_info": {
   "codemirror_mode": {
    "name": "ipython",
    "version": 3
   },
   "file_extension": ".py",
   "mimetype": "text/x-python",
   "name": "python",
   "nbconvert_exporter": "python",
   "pygments_lexer": "ipython3",
   "version": "3.7.3"
  }
 },
 "nbformat": 4,
 "nbformat_minor": 4
}
