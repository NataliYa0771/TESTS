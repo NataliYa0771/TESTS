{
 "cells": [
  {
   "cell_type": "markdown",
   "metadata": {},
   "source": [
    "## PYTHON ##"
   ]
  },
  {
   "cell_type": "markdown",
   "metadata": {},
   "source": [
    "Дан список (list), нужно его сохранить задом наперед. Также возможно предложить несколько вариантов и упомянуть про тип Big O notation, сложности алгоритма. Стоит упомянуть про использование памяти в зависимости от подхода."
   ]
  },
  {
   "cell_type": "code",
   "execution_count": 29,
   "metadata": {},
   "outputs": [],
   "source": [
    "import time\n",
    "lst = list(range(1000))"
   ]
  },
  {
   "cell_type": "code",
   "execution_count": 30,
   "metadata": {},
   "outputs": [
    {
     "name": "stdout",
     "output_type": "stream",
     "text": [
      "999 9.298324584960938e-05\n"
     ]
    }
   ],
   "source": [
    "#Срез\n",
    "old_time = time.time()\n",
    "def reverse(lst):\n",
    "    return lst[::-1]\n",
    "print(reverse(lst)[0],time.time() - old_time)"
   ]
  },
  {
   "cell_type": "code",
   "execution_count": 31,
   "metadata": {},
   "outputs": [
    {
     "name": "stdout",
     "output_type": "stream",
     "text": [
      "999 0.0009310245513916016\n"
     ]
    }
   ],
   "source": [
    "#Цикл\n",
    "old_time = time.time()\n",
    "def reverse(lst):\n",
    "    reversed_list = []\n",
    "    for i in range(len(lst) - 1, -1, -1):\n",
    "        reversed_list.append(lst[i])\n",
    "    return reversed_list\n",
    "print(reverse(lst)[0], time.time() - old_time)"
   ]
  },
  {
   "cell_type": "code",
   "execution_count": 32,
   "metadata": {},
   "outputs": [
    {
     "name": "stdout",
     "output_type": "stream",
     "text": [
      "999 0.00021338462829589844\n"
     ]
    }
   ],
   "source": [
    "#Встроенная функция\n",
    "old_time = time.time()\n",
    "def reverse(lst):\n",
    "    return list(reversed(lst))\n",
    "print(reverse(lst)[0],time.time() - old_time)"
   ]
  },
  {
   "cell_type": "code",
   "execution_count": 33,
   "metadata": {},
   "outputs": [
    {
     "name": "stdout",
     "output_type": "stream",
     "text": [
      "999 0.011665821075439453\n"
     ]
    }
   ],
   "source": [
    "#Рекурсивный подход\n",
    "old_time = time.time()\n",
    "def reverse(lst):\n",
    "    if not lst:\n",
    "        return []\n",
    "    return [lst[-1]] + reverse(lst[:-1])\n",
    "print(reverse(lst)[0],time.time() - old_time)"
   ]
  },
  {
   "cell_type": "code",
   "execution_count": 34,
   "metadata": {},
   "outputs": [
    {
     "name": "stdout",
     "output_type": "stream",
     "text": [
      "999 0.0003104209899902344\n"
     ]
    }
   ],
   "source": [
    "#Использование двух указателей (in-place)\n",
    "old_time = time.time()\n",
    "def reverse(lst):\n",
    "    left, right = 0, len(lst) - 1\n",
    "    while left < right:\n",
    "        lst[left], lst[right] = lst[right], lst[left]\n",
    "        left += 1\n",
    "        right -= 1\n",
    "    return lst\n",
    "print(reverse(lst)[0],time.time() - old_time)"
   ]
  },
  {
   "cell_type": "markdown",
   "metadata": {},
   "source": [
    "Для обычных случаев лучше использовать вариант 1 (срез) или вариант 3 (reversed()), так как они простые и эффективные.\n",
    "Если важно экономить память лучше выбрать вариант 5 (два указателя),так как он работает in-place и не требует дополнительной памяти. Time Complexity одинаковая O(n) для всех методов. Space Complexity O(n) для методов, создающих копии, O(1) для in-place метода."
   ]
  },
  {
   "cell_type": "code",
   "execution_count": null,
   "metadata": {},
   "outputs": [],
   "source": []
  }
 ],
 "metadata": {
  "kernelspec": {
   "display_name": "Python 3",
   "language": "python",
   "name": "python3"
  },
  "language_info": {
   "codemirror_mode": {
    "name": "ipython",
    "version": 3
   },
   "file_extension": ".py",
   "mimetype": "text/x-python",
   "name": "python",
   "nbconvert_exporter": "python",
   "pygments_lexer": "ipython3",
   "version": "3.7.3"
  }
 },
 "nbformat": 4,
 "nbformat_minor": 4
}
